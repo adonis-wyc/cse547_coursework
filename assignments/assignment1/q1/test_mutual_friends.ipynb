{
 "cells": [
  {
   "cell_type": "code",
   "execution_count": 1,
   "metadata": {},
   "outputs": [],
   "source": [
    "import findspark\n",
    "findspark.init()"
   ]
  },
  {
   "cell_type": "code",
   "execution_count": 2,
   "metadata": {},
   "outputs": [],
   "source": [
    "from pyspark import SparkConf, SparkContext"
   ]
  },
  {
   "cell_type": "code",
   "execution_count": 3,
   "metadata": {},
   "outputs": [],
   "source": [
    "from collections import defaultdict\n",
    "\n",
    "import operator\n",
    "import re"
   ]
  },
  {
   "cell_type": "code",
   "execution_count": 6,
   "metadata": {},
   "outputs": [],
   "source": [
    "conf = SparkConf()\n",
    "sc = SparkContext(conf=conf)"
   ]
  },
  {
   "cell_type": "code",
   "execution_count": 7,
   "metadata": {},
   "outputs": [],
   "source": [
    "# input_file = \"./data/soc-LiveJournal1Adj.txt\" # argv[1]\n",
    "input_file = \"./data/testcase_input.txt\" # argv[1]"
   ]
  },
  {
   "cell_type": "code",
   "execution_count": 8,
   "metadata": {},
   "outputs": [],
   "source": [
    "lines = sc.textFile(input_file) # argv[1]"
   ]
  },
  {
   "cell_type": "code",
   "execution_count": 9,
   "metadata": {},
   "outputs": [],
   "source": [
    "# Solution"
   ]
  },
  {
   "cell_type": "code",
   "execution_count": 15,
   "metadata": {},
   "outputs": [],
   "source": [
    "def get_user_friend_pairs(line):\n",
    "    toks = re.split(r'\\t+', line)\n",
    "    user = int(toks[0])\n",
    "    friends_str = toks[1]\n",
    "\n",
    "    if not friends_str:\n",
    "        return []\n",
    "\n",
    "    friends = [int(x) for x in friends_str.split(\",\")]\n",
    "\n",
    "    if not friends_str:\n",
    "        return []\n",
    "\n",
    "    return [(user, friend) for friend in friends]\n",
    "\n",
    "\n",
    "# This contains every user <-> friend pair.\n",
    "user_friends = lines.flatMap(get_user_friend_pairs)\n",
    "\n",
    "# Every user needs the friends of each of the user's friends. In other words, since every friend also has this user in their list of friends (bidirectional), each of this user, would want to see all the friends of this user.\n",
    "# This contains, each (friend, list of user's friends)\n",
    "def get_second_order_friends(line):\n",
    "    toks = re.split(r'\\t+', line)\n",
    "    user = int(toks[0])\n",
    "    friends_str = toks[1]\n",
    "\n",
    "    if not friends_str:\n",
    "        return []\n",
    "\n",
    "    friends = [int(x) for x in friends_str.split(\",\")]\n",
    "\n",
    "    result_list = []\n",
    "    for friend in friends:\n",
    "        result_list.append((friend, friends))\n",
    "\n",
    "    return result_list\n",
    "\n",
    "\n",
    "second_order_friends = lines.flatMap(get_second_order_friends)\n",
    "\n",
    "# Now, we can append all second order friends into a single list. Then we can count the number of times each friend occurs (this is the number of times this friend occurs in second order friends; like number of documents a unique word is present in).\n",
    "# However, we need to filter out the user, and user's first-order friends, because we dont want to recommend those who are already friends. Spark provides, nice reduce-like operation \"cogroup\" which can help us do filter and count. Further, once the candidate mutual friends for recommendation has been created, we would sort it based on number of mutual friends (secondary key being the user id).\n",
    "cogrouped_mutual_friends = second_order_friends.cogroup(user_friends)\n",
    "\n",
    "def filter_count_sort(x):\n",
    "    user, cogrouped_value = x\n",
    "    second_order_friends, own_friends = cogrouped_value\n",
    "    second_ordered_friends_flattened = [friend for cur_second_order_friends in second_order_friends for friend in cur_second_order_friends]\n",
    "\n",
    "    # filter and count\n",
    "    filtered_mutual_friends = defaultdict(int)\n",
    "    for f in second_ordered_friends_flattened:\n",
    "        if f != user and f not in own_friends:\n",
    "            filtered_mutual_friends[f] += 1\n",
    "\n",
    "    # sort\n",
    "    secondary_sorted = sorted(filtered_mutual_friends.items(), key=operator.itemgetter(0))\n",
    "    sorted_mutual_friends = sorted(secondary_sorted, key=operator.itemgetter(1), reverse=True)\n",
    "\n",
    "    num_recommendations = 10\n",
    "    return (user, sorted_mutual_friends[:num_recommendations])\n",
    "\n",
    "\n",
    "mutual_friends_ordered = cogrouped_mutual_friends.map(filter_count_sort)\n",
    "\n",
    "# For recommendations, we do not need the counts.\n",
    "non_zero_friends_user_recommendations = mutual_friends_ordered.map(lambda k_v: (k_v[0], [friend_count[0] for friend_count in k_v[1]]))\n",
    "\n",
    "# We can process the users without friends separately.\n",
    "def process_zero_friends_users(line):\n",
    "    toks = re.split(r'\\t+', line)\n",
    "    user = int(toks[0])\n",
    "    friends_str = toks[1]\n",
    "\n",
    "    if friends_str:\n",
    "        return []\n",
    "\n",
    "    return [(user, [])]\n",
    "\n",
    "\n",
    "# This contains every user <-> friend pair.\n",
    "zero_friends_user_recommendations = lines.flatMap(process_zero_friends_users)\n",
    "\n",
    "# We can take union to a single RDD of recommendations.\n",
    "recommendations = non_zero_friends_user_recommendations.union(zero_friends_user_recommendations)\n",
    "\n",
    "# For each of seeing the output, sorting the recommendations by user id. This may not be required, and it might save considerable amount of time if skipped.\n",
    "recommendations = recommendations.sortByKey()\n",
    "\n",
    "# Formatting and saving the output.\n",
    "formatted_recommendations = recommendations.map(lambda x: \"\".join([str(x[0]), \"\\t\", \",\".join(map(str, x[1]))]))\n",
    "formatted_recommendations.coalesce(1).saveAsTextFile(\"testinput_out\")"
   ]
  },
  {
   "cell_type": "code",
   "execution_count": 12,
   "metadata": {},
   "outputs": [
    {
     "data": {
      "text/plain": [
       "['0\\t4,6,7,8',\n",
       " '1\\t5,6,7',\n",
       " '2\\t4,5',\n",
       " '3\\t5,6,7',\n",
       " '4\\t0,2,9,8',\n",
       " '5\\t1,3,2,9',\n",
       " '6\\t0,1,3,8',\n",
       " '7\\t0,1,3,8',\n",
       " '8\\t0,4,6,7',\n",
       " '9\\t4,5']"
      ]
     },
     "execution_count": 12,
     "metadata": {},
     "output_type": "execute_result"
    }
   ],
   "source": [
    "formatted_recommendations.collect()"
   ]
  },
  {
   "cell_type": "code",
   "execution_count": 14,
   "metadata": {},
   "outputs": [],
   "source": [
    "formatted_recommendations.saveAsTextFile(\"testinput_out\")"
   ]
  },
  {
   "cell_type": "code",
   "execution_count": 10,
   "metadata": {},
   "outputs": [
    {
     "data": {
      "text/plain": [
       "[(0, [(4, 3), (6, 1), (7, 1), (8, 1)]),\n",
       " (4, [(0, 3), (2, 2), (9, 2), (8, 1)]),\n",
       " (8, [(0, 1), (4, 1), (6, 1), (7, 1)]),\n",
       " (1, [(5, 2), (6, 1), (7, 1)]),\n",
       " (5, [(1, 2), (3, 2), (2, 1), (9, 1)]),\n",
       " (9, [(4, 2), (5, 1)]),\n",
       " (2, [(4, 2), (5, 1)]),\n",
       " (6, [(0, 1), (1, 1), (3, 1), (8, 1)]),\n",
       " (3, [(5, 2), (6, 1), (7, 1)]),\n",
       " (7, [(0, 1), (1, 1), (3, 1), (8, 1)])]"
      ]
     },
     "execution_count": 10,
     "metadata": {},
     "output_type": "execute_result"
    }
   ],
   "source": [
    "mutual_friends_ordered.collect()"
   ]
  },
  {
   "cell_type": "code",
   "execution_count": 11,
   "metadata": {},
   "outputs": [
    {
     "data": {
      "text/plain": [
       "[(0, [4, 6, 7, 8]),\n",
       " (1, [5, 6, 7]),\n",
       " (2, [4, 5]),\n",
       " (3, [5, 6, 7]),\n",
       " (4, [0, 2, 9, 8]),\n",
       " (5, [1, 3, 2, 9]),\n",
       " (6, [0, 1, 3, 8]),\n",
       " (7, [0, 1, 3, 8]),\n",
       " (8, [0, 4, 6, 7]),\n",
       " (9, [4, 5])]"
      ]
     },
     "execution_count": 11,
     "metadata": {},
     "output_type": "execute_result"
    }
   ],
   "source": [
    "sorted_recommendations.collect()"
   ]
  },
  {
   "cell_type": "code",
   "execution_count": 17,
   "metadata": {},
   "outputs": [
    {
     "data": {
      "text/plain": [
       "10"
      ]
     },
     "execution_count": 17,
     "metadata": {},
     "output_type": "execute_result"
    }
   ],
   "source": [
    "mutual_friends_ordered.count()"
   ]
  },
  {
   "cell_type": "code",
   "execution_count": 19,
   "metadata": {},
   "outputs": [
    {
     "data": {
      "text/plain": [
       "[(0, [(4, 3), (6, 1), (7, 1), (8, 1)]),\n",
       " (1, [(5, 2), (6, 1), (7, 1)]),\n",
       " (2, [(4, 2), (5, 1)]),\n",
       " (3, [(5, 2), (6, 1), (7, 1)]),\n",
       " (4, [(0, 3), (2, 2), (9, 2), (8, 1)]),\n",
       " (5, [(1, 2), (3, 2), (2, 1), (9, 1)]),\n",
       " (6, [(0, 1), (1, 1), (3, 1), (8, 1)]),\n",
       " (7, [(0, 1), (1, 1), (3, 1), (8, 1)]),\n",
       " (8, [(0, 1), (4, 1), (6, 1), (7, 1)]),\n",
       " (9, [(4, 2), (5, 1)])]"
      ]
     },
     "execution_count": 19,
     "metadata": {},
     "output_type": "execute_result"
    }
   ],
   "source": [
    "mutual_friends_ordered.sortByKey().collect()"
   ]
  },
  {
   "cell_type": "code",
   "execution_count": 12,
   "metadata": {},
   "outputs": [
    {
     "data": {
      "text/plain": [
       "20"
      ]
     },
     "execution_count": 12,
     "metadata": {},
     "output_type": "execute_result"
    }
   ],
   "source": [
    "cogrouped_mutual_friends.count()"
   ]
  },
  {
   "cell_type": "code",
   "execution_count": 15,
   "metadata": {},
   "outputs": [
    {
     "data": {
      "text/plain": [
       "[('4',\n",
       "  (<pyspark.resultiterable.ResultIterable at 0x20ca5886d30>,\n",
       "   <pyspark.resultiterable.ResultIterable at 0x20ca5886dd8>)),\n",
       " (0,\n",
       "  (<pyspark.resultiterable.ResultIterable at 0x20ca5886da0>,\n",
       "   <pyspark.resultiterable.ResultIterable at 0x20ca5886e48>)),\n",
       " (4,\n",
       "  (<pyspark.resultiterable.ResultIterable at 0x20ca5886e80>,\n",
       "   <pyspark.resultiterable.ResultIterable at 0x20ca5886eb8>)),\n",
       " (8,\n",
       "  (<pyspark.resultiterable.ResultIterable at 0x20ca5886e10>,\n",
       "   <pyspark.resultiterable.ResultIterable at 0x20ca5886f28>)),\n",
       " ('3',\n",
       "  (<pyspark.resultiterable.ResultIterable at 0x20ca5886ef0>,\n",
       "   <pyspark.resultiterable.ResultIterable at 0x20ca58862b0>)),\n",
       " ('6',\n",
       "  (<pyspark.resultiterable.ResultIterable at 0x20ca5886d68>,\n",
       "   <pyspark.resultiterable.ResultIterable at 0x20ca5893470>)),\n",
       " ('7',\n",
       "  (<pyspark.resultiterable.ResultIterable at 0x20ca5893048>,\n",
       "   <pyspark.resultiterable.ResultIterable at 0x20ca5893080>)),\n",
       " (1,\n",
       "  (<pyspark.resultiterable.ResultIterable at 0x20ca5886fd0>,\n",
       "   <pyspark.resultiterable.ResultIterable at 0x20ca58930f0>)),\n",
       " (5,\n",
       "  (<pyspark.resultiterable.ResultIterable at 0x20ca5893128>,\n",
       "   <pyspark.resultiterable.ResultIterable at 0x20ca5893160>)),\n",
       " (9,\n",
       "  (<pyspark.resultiterable.ResultIterable at 0x20ca5893198>,\n",
       "   <pyspark.resultiterable.ResultIterable at 0x20ca58931d0>)),\n",
       " ('1',\n",
       "  (<pyspark.resultiterable.ResultIterable at 0x20ca58930b8>,\n",
       "   <pyspark.resultiterable.ResultIterable at 0x20ca58932e8>)),\n",
       " ('9',\n",
       "  (<pyspark.resultiterable.ResultIterable at 0x20ca58932b0>,\n",
       "   <pyspark.resultiterable.ResultIterable at 0x20ca58933c8>)),\n",
       " ('0',\n",
       "  (<pyspark.resultiterable.ResultIterable at 0x20ca5893400>,\n",
       "   <pyspark.resultiterable.ResultIterable at 0x20ca58934a8>)),\n",
       " ('8',\n",
       "  (<pyspark.resultiterable.ResultIterable at 0x20ca5893390>,\n",
       "   <pyspark.resultiterable.ResultIterable at 0x20ca5893630>)),\n",
       " (2,\n",
       "  (<pyspark.resultiterable.ResultIterable at 0x20ca5893668>,\n",
       "   <pyspark.resultiterable.ResultIterable at 0x20ca58936a0>)),\n",
       " (6,\n",
       "  (<pyspark.resultiterable.ResultIterable at 0x20ca5893710>,\n",
       "   <pyspark.resultiterable.ResultIterable at 0x20ca5893748>)),\n",
       " ('2',\n",
       "  (<pyspark.resultiterable.ResultIterable at 0x20ca58935f8>,\n",
       "   <pyspark.resultiterable.ResultIterable at 0x20ca5893828>)),\n",
       " ('5',\n",
       "  (<pyspark.resultiterable.ResultIterable at 0x20ca58937f0>,\n",
       "   <pyspark.resultiterable.ResultIterable at 0x20ca5893898>)),\n",
       " (3,\n",
       "  (<pyspark.resultiterable.ResultIterable at 0x20ca58938d0>,\n",
       "   <pyspark.resultiterable.ResultIterable at 0x20ca5893908>)),\n",
       " (7,\n",
       "  (<pyspark.resultiterable.ResultIterable at 0x20ca5893860>,\n",
       "   <pyspark.resultiterable.ResultIterable at 0x20ca5893978>))]"
      ]
     },
     "execution_count": 15,
     "metadata": {},
     "output_type": "execute_result"
    }
   ],
   "source": [
    "cogrouped_mutual_friends.collect()"
   ]
  },
  {
   "cell_type": "code",
   "execution_count": 13,
   "metadata": {},
   "outputs": [
    {
     "data": {
      "text/plain": [
       "40"
      ]
     },
     "execution_count": 13,
     "metadata": {},
     "output_type": "execute_result"
    }
   ],
   "source": [
    "user_friends.count()"
   ]
  },
  {
   "cell_type": "code",
   "execution_count": 14,
   "metadata": {},
   "outputs": [
    {
     "data": {
      "text/plain": [
       "40"
      ]
     },
     "execution_count": 14,
     "metadata": {},
     "output_type": "execute_result"
    }
   ],
   "source": [
    "second_order_friends.count()"
   ]
  },
  {
   "cell_type": "code",
   "execution_count": null,
   "metadata": {},
   "outputs": [],
   "source": []
  },
  {
   "cell_type": "code",
   "execution_count": null,
   "metadata": {},
   "outputs": [],
   "source": [
    "# Solution that would work even for undirected friends, i guess."
   ]
  },
  {
   "cell_type": "code",
   "execution_count": 20,
   "metadata": {},
   "outputs": [],
   "source": [
    "def get_user_friend_pairs(line):\n",
    "    toks = re.split(r'\\t+', line)\n",
    "    user = int(toks[0])\n",
    "    friends_str = toks[1]\n",
    "    friends = friends_str.split(\",\")\n",
    "\n",
    "    #if not friends_str:\n",
    "    #    return [] # TODO?\n",
    "\n",
    "    return [(user, int(friend)) for friend in friends]\n",
    "\n",
    "user_friends = lines.flatMap(get_user_friend_pairs)"
   ]
  },
  {
   "cell_type": "code",
   "execution_count": 22,
   "metadata": {},
   "outputs": [],
   "source": [
    "user_friends_inv = user_friends.map(lambda k_v: (k_v[1], k_v[0]))"
   ]
  },
  {
   "cell_type": "code",
   "execution_count": 23,
   "metadata": {},
   "outputs": [],
   "source": [
    "cogrouped_friends = user_friends.cogroup(user_friends_inv)"
   ]
  },
  {
   "cell_type": "code",
   "execution_count": 44,
   "metadata": {},
   "outputs": [],
   "source": [
    "def mapper_2(x):\n",
    "    key, cogrouped_value = x\n",
    "    return_values = []\n",
    "    mutual_friends, users = cogrouped_value\n",
    "    for user in users:\n",
    "        return_values.append((user, list(mutual_friends)))\n",
    "    \n",
    "    return return_values\n",
    "\n",
    "mutual_friends_unfiltered = cogrouped_friends.flatMap(mapper_2)"
   ]
  },
  {
   "cell_type": "code",
   "execution_count": 45,
   "metadata": {},
   "outputs": [],
   "source": [
    "mutual_friends_agregated_unfiltered = mutual_friends_unfiltered.reduceByKey(lambda a, b: a + b)"
   ]
  },
  {
   "cell_type": "code",
   "execution_count": 46,
   "metadata": {},
   "outputs": [],
   "source": [
    "mutual_friends_agregated_unfiltered_cogroup = mutual_friends_agregated_unfiltered.cogroup(user_friends)"
   ]
  },
  {
   "cell_type": "code",
   "execution_count": 64,
   "metadata": {},
   "outputs": [],
   "source": [
    "def filter_count_sort(x):\n",
    "    user, cogrouped_value = x\n",
    "    mutual_friends, own_friends = cogrouped_value\n",
    "    mutual_friends = list(mutual_friends)[0]\n",
    "\n",
    "    # filter and count\n",
    "    filtered_mutual_friends = defaultdict(int)\n",
    "    for f in mutual_friends:\n",
    "        if f != user and f not in own_friends:\n",
    "            filtered_mutual_friends[f] += 1\n",
    "\n",
    "    # sort\n",
    "    secondary_sorted = sorted(filtered_mutual_friends.items(), key=operator.itemgetter(0))\n",
    "    sorted_mutual_friends = sorted(secondary_sorted, key=operator.itemgetter(1), reverse=True)\n",
    "\n",
    "    return (user, sorted_mutual_friends)\n",
    "\n",
    "mutual_friends_ordered = mutual_friends_agregated_unfiltered_cogroup.flatMap(filter_count_sort)"
   ]
  },
  {
   "cell_type": "code",
   "execution_count": null,
   "metadata": {},
   "outputs": [],
   "source": []
  },
  {
   "cell_type": "code",
   "execution_count": null,
   "metadata": {},
   "outputs": [],
   "source": []
  },
  {
   "cell_type": "code",
   "execution_count": null,
   "metadata": {},
   "outputs": [],
   "source": []
  },
  {
   "cell_type": "code",
   "execution_count": 24,
   "metadata": {},
   "outputs": [
    {
     "data": {
      "text/plain": [
       "[(0, 1),\n",
       " (0, 2),\n",
       " (0, 3),\n",
       " (0, 5),\n",
       " (0, 9),\n",
       " (1, 0),\n",
       " (1, 2),\n",
       " (1, 3),\n",
       " (1, 4),\n",
       " (1, 9)]"
      ]
     },
     "execution_count": 24,
     "metadata": {},
     "output_type": "execute_result"
    }
   ],
   "source": [
    "user_friends.take(10)"
   ]
  },
  {
   "cell_type": "code",
   "execution_count": 25,
   "metadata": {},
   "outputs": [
    {
     "data": {
      "text/plain": [
       "[(1, 0),\n",
       " (2, 0),\n",
       " (3, 0),\n",
       " (5, 0),\n",
       " (9, 0),\n",
       " (0, 1),\n",
       " (2, 1),\n",
       " (3, 1),\n",
       " (4, 1),\n",
       " (9, 1)]"
      ]
     },
     "execution_count": 25,
     "metadata": {},
     "output_type": "execute_result"
    }
   ],
   "source": [
    "user_friends_inv.take(10)"
   ]
  },
  {
   "cell_type": "code",
   "execution_count": 28,
   "metadata": {},
   "outputs": [
    {
     "data": {
      "text/plain": [
       "[(0,\n",
       "  (<pyspark.resultiterable.ResultIterable at 0x1c47e597710>,\n",
       "   <pyspark.resultiterable.ResultIterable at 0x1c47e597d30>)),\n",
       " (4,\n",
       "  (<pyspark.resultiterable.ResultIterable at 0x1c47e597c50>,\n",
       "   <pyspark.resultiterable.ResultIterable at 0x1c47e597748>)),\n",
       " (8,\n",
       "  (<pyspark.resultiterable.ResultIterable at 0x1c47e597fd0>,\n",
       "   <pyspark.resultiterable.ResultIterable at 0x1c47e597780>)),\n",
       " (1,\n",
       "  (<pyspark.resultiterable.ResultIterable at 0x1c47e597208>,\n",
       "   <pyspark.resultiterable.ResultIterable at 0x1c47e597668>)),\n",
       " (5,\n",
       "  (<pyspark.resultiterable.ResultIterable at 0x1c47e597d68>,\n",
       "   <pyspark.resultiterable.ResultIterable at 0x1c47e5975c0>)),\n",
       " (9,\n",
       "  (<pyspark.resultiterable.ResultIterable at 0x1c47e5978d0>,\n",
       "   <pyspark.resultiterable.ResultIterable at 0x1c47e597a20>)),\n",
       " (2,\n",
       "  (<pyspark.resultiterable.ResultIterable at 0x1c47e597630>,\n",
       "   <pyspark.resultiterable.ResultIterable at 0x1c47e597b38>)),\n",
       " (6,\n",
       "  (<pyspark.resultiterable.ResultIterable at 0x1c47e597cf8>,\n",
       "   <pyspark.resultiterable.ResultIterable at 0x1c47e5977f0>)),\n",
       " (3,\n",
       "  (<pyspark.resultiterable.ResultIterable at 0x1c47e597860>,\n",
       "   <pyspark.resultiterable.ResultIterable at 0x1c47e597e48>)),\n",
       " (7,\n",
       "  (<pyspark.resultiterable.ResultIterable at 0x1c47e597ac8>,\n",
       "   <pyspark.resultiterable.ResultIterable at 0x1c47e597b70>))]"
      ]
     },
     "execution_count": 28,
     "metadata": {},
     "output_type": "execute_result"
    }
   ],
   "source": [
    "cogrouped_friends.take(10)"
   ]
  },
  {
   "cell_type": "code",
   "execution_count": 31,
   "metadata": {},
   "outputs": [
    {
     "data": {
      "text/plain": [
       "[(0, [[1, 2, 3, 5, 9], [1, 2, 3, 5, 9]]),\n",
       " (4, [[1, 3, 5, 6, 7], [1, 3, 5, 6, 7]]),\n",
       " (8, [[5], [5]]),\n",
       " (1, [[0, 2, 3, 4, 9], [0, 2, 3, 4, 9]]),\n",
       " (5, [[0, 4, 6, 7, 8], [0, 4, 6, 7, 8]]),\n",
       " (9, [[0, 1, 2, 3], [0, 1, 2, 3]]),\n",
       " (2, [[0, 1, 3, 9], [0, 1, 3, 9]]),\n",
       " (6, [[4, 5, 7], [4, 5, 7]]),\n",
       " (3, [[0, 1, 2, 4, 9], [0, 1, 2, 4, 9]]),\n",
       " (7, [[4, 5, 6], [4, 5, 6]])]"
      ]
     },
     "execution_count": 31,
     "metadata": {},
     "output_type": "execute_result"
    }
   ],
   "source": [
    "cogrouped_friends.map(lambda x : (x[0], [list(x[1][0]), list(x[1][1])])).collect()"
   ]
  },
  {
   "cell_type": "code",
   "execution_count": 49,
   "metadata": {},
   "outputs": [
    {
     "data": {
      "text/plain": [
       "10"
      ]
     },
     "execution_count": 49,
     "metadata": {},
     "output_type": "execute_result"
    }
   ],
   "source": [
    "mutual_friends_agregated_unfiltered.count()"
   ]
  },
  {
   "cell_type": "code",
   "execution_count": 50,
   "metadata": {},
   "outputs": [
    {
     "data": {
      "text/plain": [
       "10"
      ]
     },
     "execution_count": 50,
     "metadata": {},
     "output_type": "execute_result"
    }
   ],
   "source": [
    "mutual_friends_agregated_unfiltered_cogroup.count()"
   ]
  },
  {
   "cell_type": "code",
   "execution_count": 52,
   "metadata": {},
   "outputs": [
    {
     "data": {
      "text/plain": [
       "[(0,\n",
       "  [[[0, 2, 3, 4, 9, 0, 4, 6, 7, 8, 0, 1, 2, 3, 0, 1, 3, 9, 0, 1, 2, 4, 9]],\n",
       "   [1, 2, 3, 5, 9]]),\n",
       " (6, [[[1, 3, 5, 6, 7, 0, 4, 6, 7, 8, 4, 5, 6]], [4, 5, 7]]),\n",
       " (1,\n",
       "  [[[1, 2, 3, 5, 9, 1, 3, 5, 6, 7, 0, 1, 2, 3, 0, 1, 3, 9, 0, 1, 2, 4, 9]],\n",
       "   [0, 2, 3, 4, 9]]),\n",
       " (7, [[[1, 3, 5, 6, 7, 0, 4, 6, 7, 8, 4, 5, 7]], [4, 5, 6]]),\n",
       " (8, [[[0, 4, 6, 7, 8]], [5]]),\n",
       " (2,\n",
       "  [[[1, 2, 3, 5, 9, 0, 2, 3, 4, 9, 0, 1, 2, 3, 0, 1, 2, 4, 9]], [0, 1, 3, 9]]),\n",
       " (9,\n",
       "  [[[1, 2, 3, 5, 9, 0, 2, 3, 4, 9, 0, 1, 3, 9, 0, 1, 2, 4, 9]], [0, 1, 2, 3]]),\n",
       " (3,\n",
       "  [[[1, 2, 3, 5, 9, 1, 3, 5, 6, 7, 0, 2, 3, 4, 9, 0, 1, 2, 3, 0, 1, 3, 9]],\n",
       "   [0, 1, 2, 4, 9]]),\n",
       " (4,\n",
       "  [[[0, 2, 3, 4, 9, 0, 4, 6, 7, 8, 4, 5, 7, 0, 1, 2, 4, 9, 4, 5, 6]],\n",
       "   [1, 3, 5, 6, 7]]),\n",
       " (5, [[[1, 2, 3, 5, 9, 1, 3, 5, 6, 7, 5, 4, 5, 7, 4, 5, 6]], [0, 4, 6, 7, 8]])]"
      ]
     },
     "execution_count": 52,
     "metadata": {},
     "output_type": "execute_result"
    }
   ],
   "source": [
    "mutual_friends_agregated_unfiltered_cogroup.map(lambda x : (x[0], [list(x[1][0]), list(x[1][1])])).collect()"
   ]
  },
  {
   "cell_type": "code",
   "execution_count": 65,
   "metadata": {},
   "outputs": [
    {
     "data": {
      "text/plain": [
       "20"
      ]
     },
     "execution_count": 65,
     "metadata": {},
     "output_type": "execute_result"
    }
   ],
   "source": [
    "mutual_friends_ordered.count()"
   ]
  },
  {
   "cell_type": "code",
   "execution_count": 69,
   "metadata": {},
   "outputs": [
    {
     "data": {
      "text/plain": [
       "[0,\n",
       " [(4, 3), (6, 1), (7, 1), (8, 1)],\n",
       " 6,\n",
       " [(0, 1), (1, 1), (3, 1), (8, 1)],\n",
       " 1,\n",
       " [(5, 2), (6, 1), (7, 1)],\n",
       " 7,\n",
       " [(0, 1), (1, 1), (3, 1), (8, 1)],\n",
       " 8,\n",
       " [(0, 1), (4, 1), (6, 1), (7, 1)],\n",
       " 2,\n",
       " [(4, 2), (5, 1)],\n",
       " 9,\n",
       " [(4, 2), (5, 1)],\n",
       " 3,\n",
       " [(5, 2), (6, 1), (7, 1)],\n",
       " 4,\n",
       " [(0, 3), (2, 2), (9, 2), (8, 1)],\n",
       " 5,\n",
       " [(1, 2), (3, 2), (2, 1), (9, 1)]]"
      ]
     },
     "execution_count": 69,
     "metadata": {},
     "output_type": "execute_result"
    }
   ],
   "source": [
    "mutual_friends_ordered.collect()"
   ]
  },
  {
   "cell_type": "code",
   "execution_count": null,
   "metadata": {},
   "outputs": [],
   "source": []
  },
  {
   "cell_type": "code",
   "execution_count": null,
   "metadata": {},
   "outputs": [],
   "source": [
    "t1 = user_friends.map(lambda (user, friend): ((user, friend), [user]))\n",
    "t2 = t1.reduceByKey(lambda a, b: a + b)\n",
    "t3 = t2.\n",
    "\n",
    "#user_friends.map(lambda (user, friend): ((user, friend), [user])).reduceByKey(lambda a, b: a + b)"
   ]
  },
  {
   "cell_type": "code",
   "execution_count": 43,
   "metadata": {},
   "outputs": [
    {
     "ename": "AttributeError",
     "evalue": "'PipelinedRDD' object has no attribute 'cartesan'",
     "output_type": "error",
     "traceback": [
      "\u001b[1;31m---------------------------------------------------------------------------\u001b[0m",
      "\u001b[1;31mAttributeError\u001b[0m                            Traceback (most recent call last)",
      "\u001b[1;32m<ipython-input-43-92cde2a143ae>\u001b[0m in \u001b[0;36m<module>\u001b[1;34m\u001b[0m\n\u001b[0;32m     11\u001b[0m \u001b[1;33m\u001b[0m\u001b[0m\n\u001b[0;32m     12\u001b[0m \u001b[0muser_friends\u001b[0m \u001b[1;33m=\u001b[0m \u001b[0mlines\u001b[0m\u001b[1;33m.\u001b[0m\u001b[0mflatMap\u001b[0m\u001b[1;33m(\u001b[0m\u001b[0mmapper_1\u001b[0m\u001b[1;33m)\u001b[0m\u001b[1;33m\u001b[0m\u001b[1;33m\u001b[0m\u001b[0m\n\u001b[1;32m---> 13\u001b[1;33m \u001b[0mall_mutual_friends\u001b[0m \u001b[1;33m=\u001b[0m \u001b[0muser_friends\u001b[0m\u001b[1;33m.\u001b[0m\u001b[0mcartesan\u001b[0m\u001b[1;33m(\u001b[0m\u001b[0muser_friends\u001b[0m\u001b[1;33m)\u001b[0m\u001b[1;33m\u001b[0m\u001b[1;33m\u001b[0m\u001b[0m\n\u001b[0m",
      "\u001b[1;31mAttributeError\u001b[0m: 'PipelinedRDD' object has no attribute 'cartesan'"
     ]
    }
   ],
   "source": [
    "# Solution: 2\n",
    "def mapper_1(line):\n",
    "    toks = re.split(r'\\t+', line)\n",
    "    user = int(toks[0])\n",
    "    friends_str = toks[1]\n",
    "\n",
    "    if not friends_str:\n",
    "        return [(user, [])]\n",
    "\n",
    "    return (user, [int(x) for x in friends_str.split(\",\")])\n",
    "\n",
    "user_friends = lines.flatMap(mapper_1)\n",
    "all_mutual_friends = user_friends.cartesan(user_friends)"
   ]
  },
  {
   "cell_type": "code",
   "execution_count": null,
   "metadata": {},
   "outputs": [],
   "source": []
  },
  {
   "cell_type": "code",
   "execution_count": 7,
   "metadata": {},
   "outputs": [],
   "source": [
    "# misc\n",
    "line = lines.take(1)"
   ]
  },
  {
   "cell_type": "code",
   "execution_count": 8,
   "metadata": {},
   "outputs": [
    {
     "data": {
      "text/plain": [
       "['0\\t1,2,3,4,5,6,7,8,9,10,11,12,13,14,15,16,17,18,19,20,21,22,23,24,25,26,27,28,29,30,31,32,33,34,35,36,37,38,39,40,41,42,43,44,45,46,47,48,49,50,51,52,53,54,55,56,57,58,59,60,61,62,63,64,65,66,67,68,69,70,71,72,73,74,75,76,77,78,79,80,81,82,83,84,85,86,87,88,89,90,91,92,93,94']"
      ]
     },
     "execution_count": 8,
     "metadata": {},
     "output_type": "execute_result"
    }
   ],
   "source": [
    "line"
   ]
  },
  {
   "cell_type": "code",
   "execution_count": 10,
   "metadata": {},
   "outputs": [
    {
     "data": {
      "text/plain": [
       "['0',\n",
       " '1,2,3,4,5,6,7,8,9,10,11,12,13,14,15,16,17,18,19,20,21,22,23,24,25,26,27,28,29,30,31,32,33,34,35,36,37,38,39,40,41,42,43,44,45,46,47,48,49,50,51,52,53,54,55,56,57,58,59,60,61,62,63,64,65,66,67,68,69,70,71,72,73,74,75,76,77,78,79,80,81,82,83,84,85,86,87,88,89,90,91,92,93,94']"
      ]
     },
     "execution_count": 10,
     "metadata": {},
     "output_type": "execute_result"
    }
   ],
   "source": [
    "re.split(r'\\t+', line[0])"
   ]
  },
  {
   "cell_type": "code",
   "execution_count": 13,
   "metadata": {},
   "outputs": [],
   "source": [
    "line = '0\\t'"
   ]
  },
  {
   "cell_type": "code",
   "execution_count": 14,
   "metadata": {},
   "outputs": [
    {
     "data": {
      "text/plain": [
       "['0', '']"
      ]
     },
     "execution_count": 14,
     "metadata": {},
     "output_type": "execute_result"
    }
   ],
   "source": [
    "re.split(r'\\t+', line)"
   ]
  },
  {
   "cell_type": "code",
   "execution_count": 38,
   "metadata": {},
   "outputs": [
    {
     "data": {
      "text/plain": [
       "[(0, [(4, 3), (6, 1), (7, 1), (8, 1)]),\n",
       " (1, [(5, 2), (6, 1), (7, 1)]),\n",
       " (2, [(4, 2), (5, 1)]),\n",
       " (3, [(5, 2), (6, 1), (7, 1)]),\n",
       " (4, [(0, 3), (2, 2), (9, 2), (8, 1)]),\n",
       " (5, [(1, 2), (3, 2), (2, 1), (9, 1)]),\n",
       " (6, [(0, 1), (1, 1), (3, 1), (8, 1)]),\n",
       " (7, [(0, 1), (1, 1), (3, 1), (8, 1)]),\n",
       " (8, [(0, 1), (4, 1), (6, 1), (7, 1)]),\n",
       " (9, [(4, 2), (5, 1)])]"
      ]
     },
     "execution_count": 38,
     "metadata": {},
     "output_type": "execute_result"
    }
   ],
   "source": [
    "# normal solution\n",
    "from collections import defaultdict\n",
    "import operator\n",
    "\n",
    "friends_dict = {}\n",
    "\n",
    "input_file = \"./data/testcase_input.txt\"\n",
    "with open(input_file) as fp:\n",
    "    for line in fp.readlines():\n",
    "        line = line.strip()\n",
    "        u, friends_str = re.split(r'\\t+', line)\n",
    "        friends = friends_str.split(\",\")\n",
    "        friends_dict[int(u)] = [int(x) for x in friends]\n",
    "\n",
    "mutual_friends_dict = {}\n",
    "\n",
    "for user, friends in friends_dict.items():\n",
    "    fq = defaultdict(int)\n",
    "    grouped_mutual_friends = []\n",
    "    for f in friends:\n",
    "        grouped_mutual_friends += friends_dict[f]\n",
    "        \n",
    "    for f in grouped_mutual_friends:\n",
    "        if f != user and f not in friends_dict[user]:\n",
    "            fq[f] += 1\n",
    "\n",
    "    t1 = sorted(fq.items(), key=operator.itemgetter(0))\n",
    "    mutual_friends_dict[user] = sorted(t1, key=operator.itemgetter(1), reverse=True)\n",
    "\n",
    "sorted(mutual_friends_dict.items(), key=operator.itemgetter(0))"
   ]
  },
  {
   "cell_type": "code",
   "execution_count": 18,
   "metadata": {},
   "outputs": [
    {
     "data": {
      "text/plain": [
       "{'0': ['1,2,3,5,9'],\n",
       " '1': ['0,2,3,4,9'],\n",
       " '2': ['0,1,3,9'],\n",
       " '3': ['0,1,2,4,9'],\n",
       " '4': ['1,3,5,6,7'],\n",
       " '5': ['0,4,6,7,8'],\n",
       " '6': ['4,5,7'],\n",
       " '7': ['4,5,6'],\n",
       " '8': ['5'],\n",
       " '9': ['0,1,2,3']}"
      ]
     },
     "execution_count": 18,
     "metadata": {},
     "output_type": "execute_result"
    }
   ],
   "source": [
    "friends_dict"
   ]
  },
  {
   "cell_type": "code",
   "execution_count": 35,
   "metadata": {},
   "outputs": [
    {
     "data": {
      "text/plain": [
       "[(4, 3), (6, 1), (7, 1), (8, 1)]"
      ]
     },
     "execution_count": 35,
     "metadata": {},
     "output_type": "execute_result"
    }
   ],
   "source": [
    "t1"
   ]
  },
  {
   "cell_type": "code",
   "execution_count": 36,
   "metadata": {},
   "outputs": [
    {
     "data": {
      "text/plain": [
       "{4: 3, 6: 1, 7: 1, 8: 1}"
      ]
     },
     "execution_count": 36,
     "metadata": {},
     "output_type": "execute_result"
    }
   ],
   "source": [
    "dict(t1)"
   ]
  },
  {
   "cell_type": "code",
   "execution_count": 37,
   "metadata": {},
   "outputs": [
    {
     "data": {
      "text/plain": [
       "defaultdict(int, {4: 3, 6: 1, 7: 1, 8: 1})"
      ]
     },
     "execution_count": 37,
     "metadata": {},
     "output_type": "execute_result"
    }
   ],
   "source": [
    "fq"
   ]
  },
  {
   "cell_type": "code",
   "execution_count": null,
   "metadata": {},
   "outputs": [],
   "source": []
  },
  {
   "cell_type": "code",
   "execution_count": 53,
   "metadata": {},
   "outputs": [],
   "source": [
    "# testing filter_count_sort\n",
    "x = (0,\n",
    "  [[[0, 2, 3, 4, 9, 0, 4, 6, 7, 8, 0, 1, 2, 3, 0, 1, 3, 9, 0, 1, 2, 4, 9]],\n",
    "   [1, 2, 3, 5, 9]])"
   ]
  },
  {
   "cell_type": "code",
   "execution_count": 60,
   "metadata": {},
   "outputs": [],
   "source": [
    "user, cogrouped_value = x\n",
    "mutual_friends, own_friends = cogrouped_value\n",
    "mutual_friends = mutual_friends[0]\n",
    "\n",
    "# filter and count\n",
    "filtered_mutual_friends = defaultdict(int)\n",
    "for f in mutual_friends:\n",
    "    if f != user and f not in own_friends:\n",
    "        filtered_mutual_friends[f] += 1\n",
    "\n",
    "# sort\n",
    "secondary_sorted = sorted(filtered_mutual_friends.items(), key=operator.itemgetter(0))\n",
    "sorted_mutual_friends = sorted(secondary_sorted, key=operator.itemgetter(1), reverse=True)"
   ]
  },
  {
   "cell_type": "code",
   "execution_count": 61,
   "metadata": {},
   "outputs": [
    {
     "data": {
      "text/plain": [
       "[(4, 3), (6, 1), (7, 1), (8, 1)]"
      ]
     },
     "execution_count": 61,
     "metadata": {},
     "output_type": "execute_result"
    }
   ],
   "source": [
    "sorted_mutual_friends"
   ]
  },
  {
   "cell_type": "code",
   "execution_count": null,
   "metadata": {},
   "outputs": [],
   "source": []
  }
 ],
 "metadata": {
  "kernelspec": {
   "display_name": "Python 3",
   "language": "python",
   "name": "python3"
  },
  "language_info": {
   "codemirror_mode": {
    "name": "ipython",
    "version": 3
   },
   "file_extension": ".py",
   "mimetype": "text/x-python",
   "name": "python",
   "nbconvert_exporter": "python",
   "pygments_lexer": "ipython3",
   "version": "3.6.7"
  }
 },
 "nbformat": 4,
 "nbformat_minor": 2
}
